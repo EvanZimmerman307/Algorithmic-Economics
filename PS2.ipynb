{
  "cells": [
    {
      "cell_type": "markdown",
      "id": "671c4c6f-66f0-4c7e-8017-f6e7e84b9771",
      "metadata": {},
      "source": [
        "# <center> Algorithmic Economics </center>\n",
        "## <center> Assignment 2 </center>\n",
        "\n",
        "The due date for this assignment is __Wednesday, February 28th by 9am EST__. To complete this assignment, fill out the notebook with your answers and executed python code, and then submit the filled out notebook. The solution should be submitted via Microsoft Teams as a file attachment."
      ]
    },
    {
      "cell_type": "markdown",
      "id": "732a210c-b812-45c3-8731-3dba271f5b20",
      "metadata": {},
      "source": [
        "You are in charge of network optimization for a local branch of a global delivery company with 22 local sort centers. The company is renewing the fleet of its delivery trucks and you have been tasked with determining the allocation of trucks to each of the 22 sort centers. The head office of the company told you that the local branch will be allocated as many trucks as needed as long as you are able to to prove that they are necessary for operations. You were given the following parameters:\n",
        "\n",
        "* Each truck is capable of carrying 100,000 lbs. of freight per day and has a daily operating cost of $2,500 (including driver’s salary). Note that it is possible to load the truck with less than 100,000 lbs. of freight but that will not change its operating cost.\n",
        "\n",
        "* For any freight that your trucks will not be able to deliver, the head office has contracted with a small local delivery company wich promises to deliver any (as little or as much) extra freight at the price of 10 cents per pound from any sort center."
      ]
    },
    {
      "cell_type": "markdown",
      "id": "9ccd2064-82d8-4cf3-99b5-9c606067f0b8",
      "metadata": {},
      "source": [
        "To make a data-driven request for truck allocation to the head office, you have tasked your data scientist to analyze daily demand for freight shipments from local customers at each of the 22 sort centers. The demand distribution in each center is very close to normal. Your data scientist collected means and standard deviations of the daily demand at each sort center (expressed in million lbs. of freight) in the attached file *\"freight\\_demand\\_estimates\"*."
      ]
    },
    {
      "cell_type": "markdown",
      "id": "2918eded-ca5f-44cc-94e3-31b53f8176a5",
      "metadata": {},
      "source": [
        "1. __(10 points)__ Suppose that D is the demand for freight (in pounds) delivered from a given sort center and N is the number of trucks it has. Provided the cost figures above, construct the cost function which will give you the cost in $ for operating freight delivery from that sort center with N trucks as a function of the freight demand D at that sort center."
      ]
    },
    {
      "cell_type": "markdown",
      "id": "3029aecd-181c-47d3-832a-82013e4df37a",
      "metadata": {},
      "source": [
        "__Solution__: Construct the cost function."
      ]
    },
    {
      "cell_type": "markdown",
      "id": "1c442f9e",
      "metadata": {},
      "source": [
        "$$\n",
        "cost(N,D) = 2500N + max(0, (D - 100000N)) \\times 0.10\n",
        "$$"
      ]
    },
    {
      "cell_type": "code",
      "execution_count": 1,
      "id": "f4cd9a01",
      "metadata": {},
      "outputs": [],
      "source": [
        "def cost(N, D):\n",
        "    capacity = N * 100000\n",
        "    cost = 2500 * N + max(0, D - capacity) * 0.10\n",
        "    return cost\n"
      ]
    },
    {
      "cell_type": "markdown",
      "id": "444dbfb0-b484-4ca6-9287-ca817704a5ba",
      "metadata": {},
      "source": [
        "2. __(20 points)__ Assume that there is no demand uncertainty and the mean demand figures reported in *“freight\\_demand\\_estimates”* are the actual demand realizations in each of the sort centers. Using the cost function you constructed in the previous question, find the number of trucks you need to allocate to each sort center to minimize the operating cost of the branch."
      ]
    },
    {
      "cell_type": "markdown",
      "id": "a6f12056-1069-4d7a-8a44-25f8ef006bf3",
      "metadata": {},
      "source": [
        "__Solution__"
      ]
    },
    {
      "cell_type": "code",
      "execution_count": 2,
      "id": "c61bf3f6-2a82-4e4a-b35b-8063450b9e86",
      "metadata": {
        "tags": []
      },
      "outputs": [],
      "source": [
        "# !pip install --user pandas openpyxl"
      ]
    },
    {
      "cell_type": "code",
      "execution_count": 3,
      "id": "51d92e2d-228e-4a9d-985d-4761cc60fcfa",
      "metadata": {
        "tags": []
      },
      "outputs": [
        {
          "data": {
            "text/html": [
              "<div>\n",
              "<style scoped>\n",
              "    .dataframe tbody tr th:only-of-type {\n",
              "        vertical-align: middle;\n",
              "    }\n",
              "\n",
              "    .dataframe tbody tr th {\n",
              "        vertical-align: top;\n",
              "    }\n",
              "\n",
              "    .dataframe thead th {\n",
              "        text-align: right;\n",
              "    }\n",
              "</style>\n",
              "<table border=\"1\" class=\"dataframe\">\n",
              "  <thead>\n",
              "    <tr style=\"text-align: right;\">\n",
              "      <th></th>\n",
              "      <th>Sort center #</th>\n",
              "      <th>Daily demand (in million lbs)</th>\n",
              "      <th>Standard deviation of demand (in million lbs)</th>\n",
              "    </tr>\n",
              "  </thead>\n",
              "  <tbody>\n",
              "    <tr>\n",
              "      <th>0</th>\n",
              "      <td>1</td>\n",
              "      <td>1.291199</td>\n",
              "      <td>2.776397</td>\n",
              "    </tr>\n",
              "    <tr>\n",
              "      <th>1</th>\n",
              "      <td>2</td>\n",
              "      <td>7.703011</td>\n",
              "      <td>2.723797</td>\n",
              "    </tr>\n",
              "    <tr>\n",
              "      <th>2</th>\n",
              "      <td>3</td>\n",
              "      <td>9.106282</td>\n",
              "      <td>0.007215</td>\n",
              "    </tr>\n",
              "    <tr>\n",
              "      <th>3</th>\n",
              "      <td>4</td>\n",
              "      <td>21.946484</td>\n",
              "      <td>3.885373</td>\n",
              "    </tr>\n",
              "    <tr>\n",
              "      <th>4</th>\n",
              "      <td>5</td>\n",
              "      <td>8.091064</td>\n",
              "      <td>1.848259</td>\n",
              "    </tr>\n",
              "    <tr>\n",
              "      <th>5</th>\n",
              "      <td>6</td>\n",
              "      <td>5.595920</td>\n",
              "      <td>1.463182</td>\n",
              "    </tr>\n",
              "    <tr>\n",
              "      <th>6</th>\n",
              "      <td>7</td>\n",
              "      <td>6.595868</td>\n",
              "      <td>0.585117</td>\n",
              "    </tr>\n",
              "    <tr>\n",
              "      <th>7</th>\n",
              "      <td>8</td>\n",
              "      <td>13.524867</td>\n",
              "      <td>3.168778</td>\n",
              "    </tr>\n",
              "    <tr>\n",
              "      <th>8</th>\n",
              "      <td>9</td>\n",
              "      <td>0.341742</td>\n",
              "      <td>1.728683</td>\n",
              "    </tr>\n",
              "    <tr>\n",
              "      <th>9</th>\n",
              "      <td>10</td>\n",
              "      <td>9.399122</td>\n",
              "      <td>0.408743</td>\n",
              "    </tr>\n",
              "    <tr>\n",
              "      <th>10</th>\n",
              "      <td>11</td>\n",
              "      <td>2.947874</td>\n",
              "      <td>0.641326</td>\n",
              "    </tr>\n",
              "    <tr>\n",
              "      <th>11</th>\n",
              "      <td>12</td>\n",
              "      <td>13.233265</td>\n",
              "      <td>3.505713</td>\n",
              "    </tr>\n",
              "    <tr>\n",
              "      <th>12</th>\n",
              "      <td>13</td>\n",
              "      <td>14.663682</td>\n",
              "      <td>3.160427</td>\n",
              "    </tr>\n",
              "    <tr>\n",
              "      <th>13</th>\n",
              "      <td>14</td>\n",
              "      <td>3.076356</td>\n",
              "      <td>0.590682</td>\n",
              "    </tr>\n",
              "    <tr>\n",
              "      <th>14</th>\n",
              "      <td>15</td>\n",
              "      <td>3.044831</td>\n",
              "      <td>2.398643</td>\n",
              "    </tr>\n",
              "    <tr>\n",
              "      <th>15</th>\n",
              "      <td>16</td>\n",
              "      <td>4.892953</td>\n",
              "      <td>2.873544</td>\n",
              "    </tr>\n",
              "    <tr>\n",
              "      <th>16</th>\n",
              "      <td>17</td>\n",
              "      <td>18.503405</td>\n",
              "      <td>3.981996</td>\n",
              "    </tr>\n",
              "    <tr>\n",
              "      <th>17</th>\n",
              "      <td>18</td>\n",
              "      <td>12.864167</td>\n",
              "      <td>3.881153</td>\n",
              "    </tr>\n",
              "    <tr>\n",
              "      <th>18</th>\n",
              "      <td>19</td>\n",
              "      <td>14.059525</td>\n",
              "      <td>3.941239</td>\n",
              "    </tr>\n",
              "    <tr>\n",
              "      <th>19</th>\n",
              "      <td>20</td>\n",
              "      <td>5.359283</td>\n",
              "      <td>0.913183</td>\n",
              "    </tr>\n",
              "    <tr>\n",
              "      <th>20</th>\n",
              "      <td>21</td>\n",
              "      <td>3.175830</td>\n",
              "      <td>3.897725</td>\n",
              "    </tr>\n",
              "    <tr>\n",
              "      <th>21</th>\n",
              "      <td>22</td>\n",
              "      <td>0.351170</td>\n",
              "      <td>1.938895</td>\n",
              "    </tr>\n",
              "  </tbody>\n",
              "</table>\n",
              "</div>"
            ],
            "text/plain": [
              "    Sort center #  Daily demand (in million lbs)  \\\n",
              "0               1                       1.291199   \n",
              "1               2                       7.703011   \n",
              "2               3                       9.106282   \n",
              "3               4                      21.946484   \n",
              "4               5                       8.091064   \n",
              "5               6                       5.595920   \n",
              "6               7                       6.595868   \n",
              "7               8                      13.524867   \n",
              "8               9                       0.341742   \n",
              "9              10                       9.399122   \n",
              "10             11                       2.947874   \n",
              "11             12                      13.233265   \n",
              "12             13                      14.663682   \n",
              "13             14                       3.076356   \n",
              "14             15                       3.044831   \n",
              "15             16                       4.892953   \n",
              "16             17                      18.503405   \n",
              "17             18                      12.864167   \n",
              "18             19                      14.059525   \n",
              "19             20                       5.359283   \n",
              "20             21                       3.175830   \n",
              "21             22                       0.351170   \n",
              "\n",
              "    Standard deviation of demand (in million lbs)  \n",
              "0                                        2.776397  \n",
              "1                                        2.723797  \n",
              "2                                        0.007215  \n",
              "3                                        3.885373  \n",
              "4                                        1.848259  \n",
              "5                                        1.463182  \n",
              "6                                        0.585117  \n",
              "7                                        3.168778  \n",
              "8                                        1.728683  \n",
              "9                                        0.408743  \n",
              "10                                       0.641326  \n",
              "11                                       3.505713  \n",
              "12                                       3.160427  \n",
              "13                                       0.590682  \n",
              "14                                       2.398643  \n",
              "15                                       2.873544  \n",
              "16                                       3.981996  \n",
              "17                                       3.881153  \n",
              "18                                       3.941239  \n",
              "19                                       0.913183  \n",
              "20                                       3.897725  \n",
              "21                                       1.938895  "
            ]
          },
          "execution_count": 3,
          "metadata": {},
          "output_type": "execute_result"
        }
      ],
      "source": [
        "# Load the data\n",
        "import pandas as pd\n",
        "\n",
        "freight_demand_est = pd.read_excel('freight_demand_estimates.xlsx')\n",
        "freight_demand_est\n",
        "\n",
        "# Process the data"
      ]
    },
    {
      "cell_type": "code",
      "execution_count": 4,
      "id": "c184addd-104c-430b-8889-31fec30ed15f",
      "metadata": {
        "tags": []
      },
      "outputs": [],
      "source": [
        "def get_optimal_number_of_trucks(demand): # demand in lbs\n",
        "    '''\n",
        "        Return the optimal number of trucks for a sort center if there is no demand uncertainty.\n",
        "        Parameters:\n",
        "            demand: Exact demand at the sort center.\n",
        "    '''\n",
        "    ntrucks = int(demand // 100000 ) # number of trucks we can fill\n",
        "    if cost(ntrucks + 1, demand) < cost(ntrucks, demand): #if the cost of using one more truck is cheaper, use another truck\n",
        "        ntrucks += 1\n",
        "\n",
        "    print(ntrucks)\n",
        "    return ntrucks"
      ]
    },
    {
      "cell_type": "code",
      "execution_count": 5,
      "id": "7c5cf2a1-3c9b-4ba9-a48d-bbd2c5839c41",
      "metadata": {
        "tags": []
      },
      "outputs": [
        {
          "name": "stdout",
          "output_type": "stream",
          "text": [
            "13\n",
            "77\n",
            "91\n",
            "220\n",
            "81\n",
            "56\n",
            "66\n",
            "135\n",
            "4\n",
            "94\n",
            "30\n",
            "133\n",
            "147\n",
            "31\n",
            "31\n",
            "49\n",
            "185\n",
            "129\n",
            "141\n",
            "54\n",
            "32\n",
            "4\n"
          ]
        }
      ],
      "source": [
        "for _, (sort_center, demand_mu, _) in freight_demand_est.iterrows():\n",
        "    get_optimal_number_of_trucks(demand_mu * 1000000) # demand_mu in million lbs so multiply by 1000000"
      ]
    },
    {
      "cell_type": "markdown",
      "id": "11fb38a7-caeb-4320-b80b-f24c9230435e",
      "metadata": {},
      "source": [
        "3. __(30 points)__ Now suppose that the demand for freight (in pounds) in a sort center is random day-to-day and normally distributed with mean $\\mu$ and standard deviation $\\sigma$. Provided the cost figures above, construct the expected cost function which will give you the expected daily cost in $ for operating freight delivery from that sort center as a function of the number of trucks N allocated to that sort center."
      ]
    },
    {
      "cell_type": "markdown",
      "id": "c67f027a-14f1-4c0e-9d7e-1e609f1af1b5",
      "metadata": {},
      "source": [
        "__Solution__: Construct the expected cost function."
      ]
    },
    {
      "cell_type": "markdown",
      "id": "45e05efa",
      "metadata": {},
      "source": [
        "$$\n",
        "cost(N,D) = 2500N + max(0, (D - 100000N)) \\times 0.10\n",
        "$$\n",
        "\n",
        "$$\n",
        "E[cost(N,D)] =  2500N + E[max(0, (D - 100000N)) \\times 0.10]\n",
        "$$\n",
        "\n",
        "N is given, but D is a normal random variable with mean $\\mu$ and standard deviation $\\sigma$"
      ]
    },
    {
      "cell_type": "code",
      "execution_count": 6,
      "id": "b7da40e6",
      "metadata": {},
      "outputs": [],
      "source": [
        "from scipy.integrate import quad\n",
        "from scipy.stats import norm\n",
        "import numpy as np\n",
        "\n"
      ]
    },
    {
      "cell_type": "code",
      "execution_count": 7,
      "id": "1ca50b39-0b54-43b5-adcd-c4d0a3a2c0f3",
      "metadata": {
        "tags": []
      },
      "outputs": [],
      "source": [
        "def get_expected_cost(number_of_trucks, demand_mu, demand_sigma):\n",
        "    '''\n",
        "        Return the expected cost of a sort center.\n",
        "        Parameters:\n",
        "            number_of_trucks: Number of trucks assigned to the sort center.\n",
        "            demand_mu: Mean demand at the sort center\n",
        "            demand_sigma: Standard deviation of demand at the sort center\n",
        "    '''\n",
        "    capacity = 100000 * number_of_trucks\n",
        "    cost = 2500 * number_of_trucks\n",
        "\n",
        "    # expected additional cost when demand exceeds capacity\n",
        "    additional_cost = lambda x: x - capacity\n",
        "\n",
        "    # Calculate the expected additional cost using norm.expect\n",
        "    expected_additional_cost = norm.expect(additional_cost, loc=demand_mu, scale=demand_sigma, lb=capacity)\n",
        "\n",
        "    total_expected_cost = cost + max(0,expected_additional_cost) * 0.10\n",
        "\n",
        "    return total_expected_cost\n",
        "    "
      ]
    },
    {
      "cell_type": "markdown",
      "id": "35236124-0c46-495e-82b0-f37d2429dd18",
      "metadata": {},
      "source": [
        "4. __(30 points)__ Using the numbers reported in *\"freight\\_demand\\_estimates\"* for mean and standard deviation of the demand for freight in each of the 22 sort centers, find the number of trucks N which needs to be allocated to each sort center to minimize the expected cost."
      ]
    },
    {
      "cell_type": "markdown",
      "id": "a3a77b41-172f-4565-b68d-bf06c8b107b0",
      "metadata": {},
      "source": [
        "__Solution__:"
      ]
    },
    {
      "cell_type": "code",
      "execution_count": 8,
      "id": "e7f32692",
      "metadata": {},
      "outputs": [],
      "source": [
        "from scipy.optimize import minimize_scalar"
      ]
    },
    {
      "cell_type": "code",
      "execution_count": 9,
      "id": "5c2a2b46",
      "metadata": {},
      "outputs": [
        {
          "name": "stderr",
          "output_type": "stream",
          "text": [
            "/Library/Frameworks/Python.framework/Versions/3.11/lib/python3.11/site-packages/scipy/stats/_distn_infrastructure.py:2914: IntegrationWarning: The integral is probably divergent, or slowly convergent.\n",
            "  dub = integrate.quad(fun, d, ub, **kwds)[0]\n",
            "/Library/Frameworks/Python.framework/Versions/3.11/lib/python3.11/site-packages/scipy/stats/_distn_infrastructure.py:2894: RuntimeWarning: invalid value encountered in scalar multiply\n",
            "  return func(x) * self.pdf(x, *args, **lockwds)\n",
            "/Library/Frameworks/Python.framework/Versions/3.11/lib/python3.11/site-packages/scipy/stats/_distn_infrastructure.py:2914: IntegrationWarning: The occurrence of roundoff error is detected, which prevents \n",
            "  the requested tolerance from being achieved.  The error may be \n",
            "  underestimated.\n",
            "  dub = integrate.quad(fun, d, ub, **kwds)[0]\n",
            "/Library/Frameworks/Python.framework/Versions/3.11/lib/python3.11/site-packages/scipy/stats/_distn_infrastructure.py:2913: IntegrationWarning: The occurrence of roundoff error is detected, which prevents \n",
            "  the requested tolerance from being achieved.  The error may be \n",
            "  underestimated.\n",
            "  cd = integrate.quad(fun, c, d, **kwds)[0]\n"
          ]
        },
        {
          "name": "stdout",
          "output_type": "stream",
          "text": [
            "Sort Center: 1.0, Demand (mu): 1291198.8378673345, Demand (sigma): 2776396.607402174, Optimal Trucks: 28, Optimal Cost: $113,184.64\n",
            "Sort Center: 2.0, Demand (mu): 7703011.068146806, Demand (sigma): 2723796.6748050964, Optimal Trucks: 92, Optimal Cost: $271,947.73\n",
            "Sort Center: 3.0, Demand (mu): 9106281.970117815, Demand (sigma): 7215.204028525157, Optimal Trucks: 91, Optimal Cost: $228,204.64\n",
            "Sort Center: 4.0, Demand (mu): 21946483.8983367, Demand (sigma): 3885373.14902582, Optimal Trucks: 241, Optimal Cost: $661,886.89\n",
            "Sort Center: 5.0, Demand (mu): 8091063.533493584, Demand (sigma): 1848258.7617615035, Optimal Trucks: 91, Optimal Cost: $256,135.06\n"
          ]
        },
        {
          "name": "stderr",
          "output_type": "stream",
          "text": [
            "/Library/Frameworks/Python.framework/Versions/3.11/lib/python3.11/site-packages/scipy/stats/_distn_infrastructure.py:2914: IntegrationWarning: The algorithm does not converge.  Roundoff error is detected\n",
            "  in the extrapolation table.  It is assumed that the requested tolerance\n",
            "  cannot be achieved, and that the returned result (if full_output = 1) is \n",
            "  the best which can be obtained.\n",
            "  dub = integrate.quad(fun, d, ub, **kwds)[0]\n"
          ]
        },
        {
          "name": "stdout",
          "output_type": "stream",
          "text": [
            "Sort Center: 6.0, Demand (mu): 5595919.739296118, Demand (sigma): 1463181.6151159792, Optimal Trucks: 64, Optimal Cost: $182,535.64\n",
            "Sort Center: 7.0, Demand (mu): 6595867.614291451, Demand (sigma): 585116.8785533218, Optimal Trucks: 69, Optimal Cost: $181,952.90\n",
            "Sort Center: 8.0, Demand (mu): 13524866.9618148, Demand (sigma): 3168778.144400176, Optimal Trucks: 153, Optimal Cost: $430,470.64\n",
            "Sort Center: 9.0, Demand (mu): 341742.37092552404, Demand (sigma): 1728682.6293116037, Optimal Trucks: 12, Optimal Cost: $58,980.71\n",
            "Sort Center: 10.0, Demand (mu): 9399121.679456102, Demand (sigma): 408743.3260170044, Optimal Trucks: 97, Optimal Cost: $247,991.26\n",
            "Sort Center: 11.0, Demand (mu): 2947873.982137356, Demand (sigma): 641325.5880032791, Optimal Trucks: 33, Optimal Cost: $92,385.27\n",
            "Sort Center: 12.0, Demand (mu): 13233265.4855224, Demand (sigma): 3505712.871994191, Optimal Trucks: 151, Optimal Cost: $432,997.39\n",
            "Sort Center: 13.0, Demand (mu): 14663682.491229301, Demand (sigma): 3160427.370957808, Optimal Trucks: 164, Optimal Cost: $458,688.02\n",
            "Sort Center: 14.0, Demand (mu): 3076356.33171091, Demand (sigma): 590682.0168632794, Optimal Trucks: 34, Optimal Cost: $94,121.50\n",
            "Sort Center: 15.0, Demand (mu): 3044831.3116280586, Demand (sigma): 2398642.8163586585, Optimal Trucks: 44, Optimal Cost: $146,031.30\n",
            "Sort Center: 16.0, Demand (mu): 4892952.935866539, Demand (sigma): 2873543.9914928623, Optimal Trucks: 65, Optimal Cost: $206,067.50\n",
            "Sort Center: 17.0, Demand (mu): 18503404.5859233, Demand (sigma): 3981996.3289800384, Optimal Trucks: 207, Optimal Cost: $578,623.25\n",
            "Sort Center: 18.0, Demand (mu): 12864166.5805038, Demand (sigma): 3881152.7545718933, Optimal Trucks: 150, Optimal Cost: $434,702.79\n",
            "Sort Center: 19.0, Demand (mu): 14059525.3437883, Demand (sigma): 3941239.2884483, Optimal Trucks: 162, Optimal Cost: $466,336.61\n",
            "Sort Center: 20.0, Demand (mu): 5359283.385193021, Demand (sigma): 913182.7561998387, Optimal Trucks: 59, Optimal Cost: $160,622.12\n",
            "Sort Center: 21.0, Demand (mu): 3175829.9740742706, Demand (sigma): 3897724.610092866, Optimal Trucks: 53, Optimal Cost: $192,975.89\n",
            "Sort Center: 22.0, Demand (mu): 351170.0417228114, Demand (sigma): 1938895.2884388964, Optimal Trucks: 14, Optimal Cost: $65,279.46\n"
          ]
        }
      ],
      "source": [
        "# For each sort center, find the number of trucks that minimizes the expected cost at that sort center\n",
        "\n",
        "optimal_sort_center_trucks = []\n",
        "optimal_costs = []\n",
        "\n",
        "for i, (sort_center, demand_mu, demand_sigma) in freight_demand_est.iterrows():\n",
        "    demand_mu_lbs = demand_mu * 1000000\n",
        "    demand_sigma_lbs = demand_sigma * 1000000 # covert from millions of lbs to lbs\n",
        "    min_trucks = 5\n",
        "    min_cost = get_expected_cost(min_trucks, demand_mu_lbs, demand_sigma_lbs)\n",
        "\n",
        "    for i in range(5,300):\n",
        "        cost = get_expected_cost(i, demand_mu_lbs, demand_sigma_lbs)\n",
        "\n",
        "        if cost < min_cost:\n",
        "            min_trucks = i\n",
        "            min_cost = cost\n",
        "    \n",
        "    optimal_sort_center_trucks.append(min_trucks)\n",
        "    optimal_costs.append(min_cost)\n",
        "    print(f\"Sort Center: {sort_center}, Demand (mu): {demand_mu_lbs}, Demand (sigma): {demand_sigma_lbs}, Optimal Trucks: {min_trucks}, Optimal Cost: ${min_cost:,.2f}\")"
      ]
    },
    {
      "cell_type": "code",
      "execution_count": 10,
      "id": "2baae100",
      "metadata": {},
      "outputs": [
        {
          "data": {
            "text/plain": [
              "[28,\n",
              " 92,\n",
              " 91,\n",
              " 241,\n",
              " 91,\n",
              " 64,\n",
              " 69,\n",
              " 153,\n",
              " 12,\n",
              " 97,\n",
              " 33,\n",
              " 151,\n",
              " 164,\n",
              " 34,\n",
              " 44,\n",
              " 65,\n",
              " 207,\n",
              " 150,\n",
              " 162,\n",
              " 59,\n",
              " 53,\n",
              " 14]"
            ]
          },
          "execution_count": 10,
          "metadata": {},
          "output_type": "execute_result"
        }
      ],
      "source": [
        "optimal_sort_center_trucks"
      ]
    },
    {
      "cell_type": "markdown",
      "id": "e794f447-f150-4ded-8102-1feb8cfefaed",
      "metadata": {},
      "source": [
        "5. (10 points) What is the total expected daily cost of optimal operation of the freight delivery branch you are in charge of?"
      ]
    },
    {
      "cell_type": "code",
      "execution_count": 11,
      "id": "0c61b856-c640-47de-9934-d3ea7dcb2316",
      "metadata": {
        "tags": []
      },
      "outputs": [
        {
          "data": {
            "text/plain": [
              "5962121.22"
            ]
          },
          "execution_count": 11,
          "metadata": {},
          "output_type": "execute_result"
        }
      ],
      "source": [
        "# Calculate total expected daily cost of optimal operation of the freight delivery branch\n",
        "total_expected_daily_cost = sum(optimal_costs)\n",
        "round(total_expected_daily_cost,2)"
      ]
    },
    {
      "cell_type": "markdown",
      "id": "2e0cc3ae",
      "metadata": {},
      "source": [
        "Total expected daily cost is $5,962,060.14"
      ]
    }
  ],
  "metadata": {
    "kernel_info": {
      "name": "python"
    },
    "kernelspec": {
      "display_name": "Python 3",
      "language": "python",
      "name": "python3"
    },
    "language_info": {
      "codemirror_mode": {
        "name": "ipython",
        "version": 3
      },
      "file_extension": ".py",
      "mimetype": "text/x-python",
      "name": "python",
      "nbconvert_exporter": "python",
      "pygments_lexer": "ipython3",
      "version": "3.11.2"
    },
    "nteract": {
      "version": "nteract-front-end@1.0.0"
    }
  },
  "nbformat": 4,
  "nbformat_minor": 5
}
