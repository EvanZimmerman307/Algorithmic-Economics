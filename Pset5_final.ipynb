{
 "cells": [
  {
   "cell_type": "markdown",
   "id": "659ecfa2-325f-4d95-9a6b-f25d96b86068",
   "metadata": {},
   "source": [
    "# <center> Algorithmic Economics </center>\n",
    "## <center> Assignment 5: Multi-Armed Bandits and Auctions </center>\n",
    "### <center> Due date: April 29, 9:00am EDT, 2024 </center>\n",
    "This assignment is designed for you to practice classical multi-armed bandit algorithms with simulated environments. You will be instructed step-by-step to implement the two most popularly referred bandit algorithms, explore-then- commit and UCB1, which we have carefully discussed in class."
   ]
  },
  {
   "cell_type": "markdown",
   "id": "88159f50-430a-4c66-95dc-8937682d32bb",
   "metadata": {},
   "source": [
    "## The environment setup: \n",
    "In a multi-armed bandit problem, the reward of different arms are assumed to be independent. In our simulated environment, the reward of each arm pull is sampled from a Gaussian distribution with unknown mean and known standard deviation, i.e., $r_{i,t} ∼ N(\\mu_i,\\sigma^2)$, where $i$ is arm index and $t$ is the timestamp. The agent can only observe the index of each arm and the sampled reward each time; and therefore, the learner should maintain sufficient statistics and construct reward estimator for each arm accordingly."
   ]
  },
  {
   "cell_type": "code",
   "execution_count": 121,
   "id": "2b2c5638-0ef5-4d05-9be9-2d650bd0f6fb",
   "metadata": {},
   "outputs": [],
   "source": [
    "import numpy as np\n",
    "\n",
    "# Define a class called MABEnvironment, which stands for \"Multi-Armed Bandit Environment\"\n",
    "\n",
    "class MABEnvironment:\n",
    "    def __init__(self, num_arms, noise_scale=0.3):\n",
    "        self.n = num_arms\n",
    "        self.arm_mean = np.zeros(self.n)\n",
    "        self.noise_scale = noise_scale\n",
    "        self.time = 0\n",
    "    \n",
    "    def gen_arms(self, range=(0, 1)):\n",
    "        self.arm_mean = np.random.rand(self.n) * (range[1]-range[0]) + range[0]\n",
    "    \n",
    "    def get_arms(self):\n",
    "        return self.arm_mean\n",
    "    \n",
    "    def get_optimal_arm(self):\n",
    "        return np.argmax(self.arm_mean), np.max(self.arm_mean)\n",
    "    \n",
    "    def get_average_sub_optimality_gap(self): # Added for 1B\n",
    "        optimal_arm, optimal_reward = self.get_optimal_arm() # Get the optimal arm and reward\n",
    "        suboptimal_rewards = np.delete(self.arm_mean, optimal_arm) # Make a new array without the optimal arm\n",
    "        sub_optimality_gaps = optimal_reward - suboptimal_rewards # Calculate sub-optimality gap\n",
    "        average_sub_optimality_gap = np.mean(sub_optimality_gaps) # Calculate mean sub-optimality gap\n",
    "        return average_sub_optimality_gap\n",
    "    \n",
    "    def run_algorithm(self, algorithm, num_iters=1000):\n",
    "        regret_seq = []\n",
    "        optimal_arm, optimal_reward = self.get_optimal_arm()\n",
    "\n",
    "        for _ in range(num_iters):\n",
    "            chosen_arm = algorithm.select_arm()\n",
    "            reward = np.random.normal(self.arm_mean[chosen_arm], self.noise_scale)\n",
    "            algorithm.update(chosen_arm, reward)\n",
    "            regret_seq.append(optimal_reward - reward)\n",
    "            self.time += 1\n",
    "\n",
    "        return np.cumsum(regret_seq)"
   ]
  },
  {
   "cell_type": "markdown",
   "id": "b2437956-4517-439e-a01b-ee27ab9c0ab9",
   "metadata": {},
   "source": [
    "## Q1 Implement the explore-and-commit algorithm (30 pts): \n",
    "The detailed procedure of this algorithm can be found in our lecture slides for *“Lecture 8: Introduction to Online Learning”*. The only hyper-parameter we need to choose is the length of the exploration phase (denoted as m), whose theoretical value has also been discussed in the slides.\n",
    "- Please implement this algorithm by completing the code snippets provided in this assignment **(15 pts)**.\n",
    "- Please vary the total number of rounds T in the range of $[1000,5000]$ with step size 1000, vary the number of arms K in the range of $[10, 30]$ with step size 5, and repeat each experiment 5 times. Report your algorithm’s regret (mean and standard deviation) under the theoretical hyper-parameter setting of m **(8 pts)**.\n",
    "- Can you find the best value of m when T = 5000 and K = 30? **(7 pts)**"
   ]
  },
  {
   "cell_type": "markdown",
   "id": "40636915-dd7e-461f-80fa-ab2ebfd9784c",
   "metadata": {},
   "source": [
    "### ETC algorithm implementation"
   ]
  },
  {
   "cell_type": "code",
   "execution_count": 129,
   "id": "b38e46c4-c867-471c-9c54-c50266524e3f",
   "metadata": {},
   "outputs": [],
   "source": [
    "class ETC:\n",
    "    def __init__(self, num_arms, m=1):\n",
    "        self.n = num_arms\n",
    "        self.m = m\n",
    "        self.arm_estimated_mean = np.zeros(self.n)\n",
    "        self.arm_counts = np.zeros(self.n)\n",
    "        self.t = 0\n",
    "        self.exploration_phase = True # explicitly keep track of what phase we are in\n",
    "\n",
    "    def select_arm(self):\n",
    "        # INSERT CODE HERE\n",
    "        # Exploreation phase\n",
    "        if self.exploration_phase:\n",
    "            for i in range(self.n): # loop through all the arms\n",
    "                if self.arm_counts[i] < self.m: # if we haven't pulled an arm m times, pull it\n",
    "                    return i \n",
    "            # This check updates the exploration_phase status based on all arms being pulled at least m times\n",
    "            if all(count >= self.m for count in self.arm_counts):\n",
    "                self.exploration_phase = False\n",
    "        \n",
    "        # Exploitation phase: Always select the best arm\n",
    "        best_arm = np.argmax(self.arm_estimated_mean)\n",
    "        return best_arm\n",
    "\n",
    "        #pass\n",
    "\n",
    "    def update(self, chosen_arm, reward):\n",
    "        # INSERT CODE HERE\n",
    "        # Only need to update counts and means for the exploration phase\n",
    "        if self.exploration_phase:\n",
    "            self.arm_counts[chosen_arm] += 1 # increase the arm pull count\n",
    "            arm_count = self.arm_counts[chosen_arm] # get the arm_count for the pulled arm\n",
    "            self.arm_estimated_mean[chosen_arm] = ( ((arm_count - 1) / arm_count) * self.arm_estimated_mean[chosen_arm] \n",
    "                                                + ((1 / arm_count) * reward ))\n",
    "        self.t += 1\n",
    "        #pass\n",
    "    \n",
    "    # Added for Q3 in the case where UCB goes first and picks the arm ETC would have picked\n",
    "    def select_next_arm(self, initial_arm):\n",
    "        # Exploration phase\n",
    "        if self.exploration_phase:\n",
    "            for i in range(self.n): # loop through all the arms\n",
    "                if self.arm_counts[i] < self.m and i != initial_arm: # if we haven't pulled an arm m times, pull it\n",
    "                    return i \n",
    "            # This check updates the exploration_phase status based on all arms being pulled at least m times\n",
    "            if all(count >= self.m for count in self.arm_counts):\n",
    "                self.exploration_phase = False\n",
    "        \n",
    "        # Exploitation phase: Always select the best arm\n",
    "        best_arm = -1\n",
    "        best_value = float('-inf')\n",
    "        for i in range(self.n):\n",
    "            if i != initial_arm and self.arm_estimated_mean[i] > best_value:\n",
    "                best_arm = i\n",
    "                best_value = self.arm_estimated_mean[i]\n",
    "        return best_arm\n",
    "    \n",
    "    \n",
    "    # Process for the ETC planner selecting an arm, assuming they know the means of all arms ---- NOT USED\n",
    "    def planner_select_arm(self, arm_means, initial_arm):\n",
    "        # Exploration phase\n",
    "        for i in range(self.n): # loop through all the arms\n",
    "            if self.arm_counts[i] < self.m and i != initial_arm: # if we haven't pulled an arm m times, pull it\n",
    "                return i \n",
    "        \n",
    "        # Exploitation phase\n",
    "        best_arm = np.argmax(arm_means) # Pick the arm with the highest mean\n",
    "        if best_arm == initial_arm: # Pick the arm with the second highest mean\n",
    "            second_highest_mean = np.partition(arm_means, -2)[-2]\n",
    "            # Now find the index of this value in the original array\n",
    "            best_arm = np.where(arm_means == second_highest_mean)[0][0]\n",
    "        return best_arm\n",
    "        \n",
    "\n",
    "        \n",
    "        \n",
    "\n"
   ]
  },
  {
   "cell_type": "markdown",
   "id": "5ad27c71-5dac-40bb-8640-b573eb788461",
   "metadata": {},
   "source": [
    "### Performance of ETC under different $(K, T)$"
   ]
  },
  {
   "cell_type": "markdown",
   "id": "23250442",
   "metadata": {},
   "source": [
    "Considering the convexity of the expression for the regrent bound, the average of the function is smaller than the function of the average, so we can define an average suboptimality gap and calculate the theoretical hyper-parameter setting of m given in lecture 8 by plugging in the average of suboptimality gaps."
   ]
  },
  {
   "cell_type": "code",
   "execution_count": 130,
   "id": "3db1d18a-27cc-4641-8cff-ef43353a47d5",
   "metadata": {},
   "outputs": [
    {
     "name": "stdout",
     "output_type": "stream",
     "text": [
      "The accumulated regret under different $(K, T)$ for ETC, format: mean +/- atd.\n"
     ]
    },
    {
     "data": {
      "text/html": [
       "<div>\n",
       "<style scoped>\n",
       "    .dataframe tbody tr th:only-of-type {\n",
       "        vertical-align: middle;\n",
       "    }\n",
       "\n",
       "    .dataframe tbody tr th {\n",
       "        vertical-align: top;\n",
       "    }\n",
       "\n",
       "    .dataframe thead th {\n",
       "        text-align: right;\n",
       "    }\n",
       "</style>\n",
       "<table border=\"1\" class=\"dataframe\">\n",
       "  <thead>\n",
       "    <tr style=\"text-align: right;\">\n",
       "      <th></th>\n",
       "      <th>10</th>\n",
       "      <th>15</th>\n",
       "      <th>20</th>\n",
       "      <th>25</th>\n",
       "      <th>30</th>\n",
       "    </tr>\n",
       "  </thead>\n",
       "  <tbody>\n",
       "    <tr>\n",
       "      <th>1000</th>\n",
       "      <td>303.0 +/- 6.0</td>\n",
       "      <td>413.0 +/- 5.0</td>\n",
       "      <td>432.0 +/- 7.0</td>\n",
       "      <td>510.0 +/- 7.0</td>\n",
       "      <td>561.0 +/- 13.0</td>\n",
       "    </tr>\n",
       "    <tr>\n",
       "      <th>2000</th>\n",
       "      <td>363.0 +/- 8.0</td>\n",
       "      <td>593.0 +/- 15.0</td>\n",
       "      <td>752.0 +/- 18.0</td>\n",
       "      <td>868.0 +/- 9.0</td>\n",
       "      <td>1033.0 +/- 8.0</td>\n",
       "    </tr>\n",
       "    <tr>\n",
       "      <th>3000</th>\n",
       "      <td>385.0 +/- 25.0</td>\n",
       "      <td>647.0 +/- 4.0</td>\n",
       "      <td>833.0 +/- 14.0</td>\n",
       "      <td>972.0 +/- 23.0</td>\n",
       "      <td>1180.0 +/- 12.0</td>\n",
       "    </tr>\n",
       "    <tr>\n",
       "      <th>4000</th>\n",
       "      <td>423.0 +/- 25.0</td>\n",
       "      <td>678.0 +/- 7.0</td>\n",
       "      <td>903.0 +/- 25.0</td>\n",
       "      <td>1007.0 +/- 16.0</td>\n",
       "      <td>1254.0 +/- 33.0</td>\n",
       "    </tr>\n",
       "    <tr>\n",
       "      <th>5000</th>\n",
       "      <td>413.0 +/- 20.0</td>\n",
       "      <td>708.0 +/- 23.0</td>\n",
       "      <td>931.0 +/- 39.0</td>\n",
       "      <td>1035.0 +/- 20.0</td>\n",
       "      <td>1316.0 +/- 30.0</td>\n",
       "    </tr>\n",
       "  </tbody>\n",
       "</table>\n",
       "</div>"
      ],
      "text/plain": [
       "                  10              15              20               25  \\\n",
       "1000   303.0 +/- 6.0   413.0 +/- 5.0   432.0 +/- 7.0    510.0 +/- 7.0   \n",
       "2000   363.0 +/- 8.0  593.0 +/- 15.0  752.0 +/- 18.0    868.0 +/- 9.0   \n",
       "3000  385.0 +/- 25.0   647.0 +/- 4.0  833.0 +/- 14.0   972.0 +/- 23.0   \n",
       "4000  423.0 +/- 25.0   678.0 +/- 7.0  903.0 +/- 25.0  1007.0 +/- 16.0   \n",
       "5000  413.0 +/- 20.0  708.0 +/- 23.0  931.0 +/- 39.0  1035.0 +/- 20.0   \n",
       "\n",
       "                   30  \n",
       "1000   561.0 +/- 13.0  \n",
       "2000   1033.0 +/- 8.0  \n",
       "3000  1180.0 +/- 12.0  \n",
       "4000  1254.0 +/- 33.0  \n",
       "5000  1316.0 +/- 30.0  "
      ]
     },
     "execution_count": 130,
     "metadata": {},
     "output_type": "execute_result"
    }
   ],
   "source": [
    "import pandas as pd \n",
    "import math\n",
    "\n",
    "num_arms = [10, 15, 20, 25, 30]\n",
    "num_iters = [1000, 2000, 3000, 4000, 5000]\n",
    "num_trials = 5\n",
    "\n",
    "# Create an empty DataFrame with the specified columns\n",
    "df = pd.DataFrame(columns=num_arms, index=num_iters)\n",
    "\n",
    "for k in num_arms:\n",
    "    # setup environment\n",
    "    env = MABEnvironment(num_arms=k)\n",
    "    env.gen_arms(range=(1,2))\n",
    "    arm_mean=env.get_arms()\n",
    "    \n",
    "    # Find out the value of Delta for different K\n",
    "    # In lecture notes, Delta defined only when K=2 \n",
    "\n",
    "    average_gap = env.get_average_sub_optimality_gap() # Calculate the average sub-optimality gap\n",
    "    \n",
    "    for t in num_iters:\n",
    "        res = []\n",
    "\n",
    "        theoretical_m = math.ceil( (4 / (average_gap**2)) * math.log( (t * (average_gap**2)) / 4) ) # Calculate m using average sub-optimality gap\n",
    "        for trial in range(num_trials):\n",
    "            algorithm = ETC(num_arms=k, m=theoretical_m) # ETC with theoretical m hyper-parameter\n",
    "            accum_regret = env.run_algorithm(algorithm=algorithm, num_iters=t)\n",
    "            res.append(accum_regret[-1])\n",
    "        df.at[t, k] = str(round(np.mean(res), 0)) + ' +/- ' + str(round(np.std(res), 0))\n",
    "\n",
    "print('The accumulated regret under different $(K, T)$ for ETC, format: mean +/- atd.')\n",
    "df.head()"
   ]
  },
  {
   "cell_type": "markdown",
   "id": "9523927d-831d-4419-b7b8-2c112bdf29b3",
   "metadata": {},
   "source": [
    "### Find the best $m$ for ETC"
   ]
  },
  {
   "cell_type": "code",
   "execution_count": 152,
   "id": "370c9ae5-29e5-4a84-82d2-28a766f26467",
   "metadata": {},
   "outputs": [
    {
     "name": "stderr",
     "output_type": "stream",
     "text": [
      "100%|██████████| 100/100 [02:49<00:00,  1.69s/it]\n"
     ]
    },
    {
     "data": {
      "image/png": "[encoded data removed]",
      "text/plain": [
       "<Figure size 1000x600 with 1 Axes>"
      ]
     },
     "metadata": {},
     "output_type": "display_data"
    },
    {
     "data": {
      "image/png": "[encoded data removed]",
      "text/plain": [
       "<Figure size 1000x600 with 1 Axes>"
      ]
     },
     "metadata": {},
     "output_type": "display_data"
    }
   ],
   "source": [
    "import pandas as pd\n",
    "import matplotlib.pyplot as plt\n",
    "from tqdm import tqdm\n",
    "\n",
    "m_values = [30, 60, 120, 240, 500, 1000, 2000] # Can we use brute force to find the best m???\n",
    "upper_bound = math.ceil(5000 / 30) # 167 m <= T/K\n",
    "upper_bound = int(upper_bound)\n",
    "num_trials = 100\n",
    "\n",
    "regret = []\n",
    "mrange_regret = []\n",
    "for trial in tqdm(range(num_trials)):\n",
    "    # setup environment\n",
    "    env = MABEnvironment(num_arms=30)\n",
    "    env.gen_arms(range=(1,2))\n",
    "\n",
    "    res = []\n",
    "    for m in m_values:\n",
    "        algorithm = ETC(num_arms=30, m=m)\n",
    "        accum_regret = env.run_algorithm(algorithm=algorithm, num_iters=5000)\n",
    "        res.append(accum_regret[-1])\n",
    "    regret.append(res)\n",
    "\n",
    "    mrange_res = []\n",
    "    for m in range(1, upper_bound + 10): # go a little past the upper bound of m, the regret should flatten\n",
    "        algorithm = ETC(num_arms=30, m=m)\n",
    "        accum_regret = env.run_algorithm(algorithm=algorithm, num_iters=5000)\n",
    "        mrange_res.append(accum_regret[-1])\n",
    "    mrange_regret.append(mrange_res)\n",
    "\n",
    "avg_regret = np.mean(np.stack(regret), axis=0)  \n",
    "mavg_regret = np.mean(np.stack(mrange_regret), axis=0)\n",
    "\n",
    "plt.figure(figsize=(10, 6))\n",
    "#plt.plot(m_values, res, label='Regret', marker='o')\n",
    "plt.plot(m_values, avg_regret, label='Regret', marker='o')\n",
    "plt.xscale('log')\n",
    "plt.xlabel('m')\n",
    "plt.ylabel('Regret')\n",
    "plt.title('The accumulated regret of ETC for $(K, T)=(30, 5000)$ under different $m$.')\n",
    "plt.legend()\n",
    "plt.grid()\n",
    "plt.show()\n",
    "\n",
    "m_range = list(range(1, upper_bound + 10))\n",
    "plt.figure(figsize=(10, 6))\n",
    "#plt.plot(m_values, res, label='Regret', marker='o')\n",
    "plt.plot(m_range, mavg_regret, label='Regret', marker='o')\n",
    "#plt.xscale('log')\n",
    "plt.xlabel('m')\n",
    "plt.ylabel('Regret')\n",
    "plt.title('The average regret of ETC for $(K, T)=(30, 5000)$ under different $m$.')\n",
    "plt.legend()\n",
    "plt.grid()\n",
    "plt.show()"
   ]
  },
  {
   "cell_type": "code",
   "execution_count": 153,
   "id": "fcd21049",
   "metadata": {},
   "outputs": [
    {
     "name": "stdout",
     "output_type": "stream",
     "text": [
      "8\n"
     ]
    },
    {
     "data": {
      "text/plain": [
       "293.73060000850904"
      ]
     },
     "execution_count": 153,
     "metadata": {},
     "output_type": "execute_result"
    }
   ],
   "source": [
    "print(np.argmin(mavg_regret))\n",
    "min(mavg_regret)\n"
   ]
  },
  {
   "cell_type": "markdown",
   "id": "6c791c2a",
   "metadata": {},
   "source": [
    "I programatically found the value of m that minimizes the average regret by running ETC with m values (1,2,3... T/K + 10). In theory, T/K should be the upper bound for m, but I decided to test the m values slightly greater than T/K for good measure, and to see if the average regret would flatten (which it did). The programatic minimization found 8 to be the value for m that yielded the lowest average regret. The second graph better illustrates the exploration/exploitation tradeoff. Looking at the plot, with m values near 0 we are not exploring enough, so our average regret is higher but decreasing as m approaches 8. As m increases from 8 to T/K + 10, we see average regret increase in what seems to be a seemingly linear fashion. This trend captures the issue of over-exploring when we should move on to the exploitation phase."
   ]
  },
  {
   "cell_type": "markdown",
   "id": "302860f4-49db-4cca-8c80-0d7de40e7703",
   "metadata": {},
   "source": [
    "## Q2 Implement the UCB1 algorithm (30 pts): \n",
    "The detailed procedure of this algorithm can also be found in our lecture slides for “Lecture 8: Introduction to Online Learning”. \n",
    "- Please implement this algorithm by completing the code snippets provided in this assignment (15 pts).\n",
    "- Now let’s compare UCB1 with explore-and-commit: please vary the total number of rounds T in the range of [1000,5000] with step size 1000, vary the number of arms K in the range of [10,30] with step size 5, and repeat each experiment 5 times. Report both algorithms’ regret (mean and standard deviation), using the theoretical hyper-parameter setting of $\\alpha$ **(8 pts)**.\n",
    "- In literature, we have a slightly different variant of UCB1, which chooses an arm by $a_t = argmax_{i} \\hat{\\mu}_{i, t-1}+ \\alpha_t \\sqrt{ \\frac{2 log(t)}{T_{i,t-1}}}$. Can you finetune $\\alpha_t$ to find the best performance of UCB1 when T = 5000 and K = 30? Is it better or worse than the corresponding best performance of\n",
    " explore-and-commit? (7 pts)\n"
   ]
  },
  {
   "cell_type": "markdown",
   "id": "1e9dcc46-7c0a-4f2a-a11c-3116ab905fbb",
   "metadata": {},
   "source": [
    "### UCB1 implementation"
   ]
  },
  {
   "cell_type": "code",
   "execution_count": 158,
   "id": "e7034df1-8ef7-45a0-8a1f-db7ef949b742",
   "metadata": {},
   "outputs": [],
   "source": [
    "class UCB1:\n",
    "    def __init__(self, num_arms, alpha=0.0):\n",
    "        self.n = num_arms\n",
    "        self.alpha = alpha\n",
    "        self.arm_estimated_mean = np.zeros(self.n)\n",
    "        self.arm_counts = np.zeros(self.n)\n",
    "        self.t = 0\n",
    "\n",
    "    def select_arm(self):\n",
    "        # INSERT CODE HERE\n",
    "        self.t += 1\n",
    "        # pass\n",
    "        # First Choose each action once\n",
    "        for i in range(self.n):\n",
    "            if self.arm_counts[i] < 1:\n",
    "                return i\n",
    "        \n",
    "        # Then Choose the action maximizing \n",
    "        best_arm = -1 \n",
    "        best_ucb = float('-inf')\n",
    "        for i in range(self.n): # loop through all the arms\n",
    "            if self.arm_counts[i] >= 1:\n",
    "                ucb = self.arm_estimated_mean[i] + self.alpha * math.sqrt( (2 * math.log(self.t)) / (self.arm_counts[i]) )\n",
    "                if ucb > best_ucb: # if we find a new largest UCB\n",
    "                    best_arm = i # Pick that UCB\n",
    "        return best_arm\n",
    "        \n",
    "    def update(self, chosen_arm, reward):\n",
    "        # INSERT CODE HERE\n",
    "        # pass\n",
    "        self.arm_counts[chosen_arm] += 1 # increase the arm pull count\n",
    "        arm_count = self.arm_counts[chosen_arm] # get the updated arm pull count\n",
    "\n",
    "        self.arm_estimated_mean[chosen_arm] = ( ((arm_count - 1) / arm_count) * self.arm_estimated_mean[chosen_arm] \n",
    "                                               + ((1 / arm_count) * reward ))\n",
    "\n",
    "        #self.t += 1 # update the rounds\n",
    "    \n",
    "    # For Question 3 in the case where ETC picks first and picks the arm UCB would choose\n",
    "    def select_next_arm(self, initial_arm):\n",
    "        for i in range(self.n):\n",
    "            if i != initial_arm and self.arm_counts[i] < 1: # Just pass over the initial arm and pick the next one we haven't tried\n",
    "                return i\n",
    "        \n",
    "        # Then Choose the second best action maximizing if need be\n",
    "        best_arm = -1 \n",
    "        best_ucb = float('-inf')\n",
    "        for i in range(self.n): # loop through all the arms\n",
    "            if self.arm_counts[i] >= 1:\n",
    "                ucb = self.arm_estimated_mean[i] + self.alpha * math.sqrt( (2 * math.log(self.t)) / (self.arm_counts[i]) )\n",
    "                if ucb > best_ucb and i != initial_arm: # if we find a new largest UCB that's not the arm we can not pick\n",
    "                    best_arm = i # Pick that UCB\n",
    "        return best_arm\n",
    "        \n",
    "\n"
   ]
  },
  {
   "cell_type": "markdown",
   "id": "9e5e41b0-2b97-427d-a982-0fa811b67b63",
   "metadata": {},
   "source": [
    "### Performance of UCB1 under different $(K, T)$"
   ]
  },
  {
   "cell_type": "code",
   "execution_count": 151,
   "id": "49d9cb30-d9bf-49f0-9fbe-21abe9c3afe6",
   "metadata": {},
   "outputs": [
    {
     "name": "stdout",
     "output_type": "stream",
     "text": [
      "The accumulated regret under different $(K, T)$ for UCB1, format: mean +/- std.\n",
      "                   10             15               20               25  \\\n",
      "1000    779.0 +/- 5.0    2.0 +/- 8.0    837.0 +/- 7.0    298.0 +/- 4.0   \n",
      "2000   1556.0 +/- 8.0  -6.0 +/- 16.0  1673.0 +/- 16.0    598.0 +/- 9.0   \n",
      "3000  2327.0 +/- 18.0   13.0 +/- 8.0   2526.0 +/- 9.0   906.0 +/- 12.0   \n",
      "4000   3112.0 +/- 4.0   3.0 +/- 16.0   3359.0 +/- 8.0  1210.0 +/- 27.0   \n",
      "5000  3904.0 +/- 12.0  12.0 +/- 10.0  4194.0 +/- 20.0  1510.0 +/- 26.0   \n",
      "\n",
      "                   30  \n",
      "1000    204.0 +/- 7.0  \n",
      "2000   416.0 +/- 12.0  \n",
      "3000    605.0 +/- 9.0  \n",
      "4000    831.0 +/- 9.0  \n",
      "5000  1031.0 +/- 25.0  \n",
      "The accumulated regret under different $(K, T)$ for ETC, format: mean +/- std.\n",
      "                  10              15              20               25  \\\n",
      "1000   289.0 +/- 9.0  455.0 +/- 11.0  400.0 +/- 11.0    524.0 +/- 9.0   \n",
      "2000   347.0 +/- 9.0  526.0 +/- 17.0   769.0 +/- 8.0   898.0 +/- 22.0   \n",
      "3000  375.0 +/- 11.0  591.0 +/- 22.0  841.0 +/- 32.0  1070.0 +/- 19.0   \n",
      "4000   392.0 +/- 8.0  631.0 +/- 29.0  863.0 +/- 19.0  1163.0 +/- 56.0   \n",
      "5000  382.0 +/- 21.0  657.0 +/- 33.0  930.0 +/- 45.0  1173.0 +/- 10.0   \n",
      "\n",
      "                   30  \n",
      "1000    466.0 +/- 5.0  \n",
      "2000   1023.0 +/- 8.0  \n",
      "3000  1188.0 +/- 11.0  \n",
      "4000  1281.0 +/- 17.0  \n",
      "5000  1319.0 +/- 17.0  \n"
     ]
    }
   ],
   "source": [
    "import pandas as pd \n",
    "\n",
    "num_arms = [10, 15, 20, 25, 30]\n",
    "num_iters = [1000, 2000, 3000, 4000, 5000]\n",
    "num_trials = 5\n",
    "\n",
    "# Create an empty DataFrame with the specified columns\n",
    "df = pd.DataFrame(columns=num_arms, index=num_iters) # ucb dataframe\n",
    "etc_df = pd.DataFrame(columns=num_arms, index=num_iters) # etc dataframe\n",
    "\n",
    "for k in num_arms:\n",
    "    # setup environment\n",
    "    env = MABEnvironment(num_arms=k)\n",
    "    env.gen_arms(range=(1,2))\n",
    "\n",
    "    average_gap = env.get_average_sub_optimality_gap() # Calculate the average sub-optimality gap\n",
    "\n",
    "    for t in num_iters:\n",
    "        res = [] # ucb results\n",
    "        etc_res = [] # etc results\n",
    "\n",
    "        theoretical_m = math.ceil( (4 / (average_gap**2)) * math.log( (t * (average_gap**2)) / 4) ) # Calculate m using average sub-optimality gap\n",
    "        for trial in range(num_trials):\n",
    "            algorithm = UCB1(num_arms=k, alpha=1.0)\n",
    "            etc_algorithm = ETC(num_arms=k, m=theoretical_m)\n",
    "\n",
    "            accum_regret = env.run_algorithm(algorithm=algorithm, num_iters=t)\n",
    "            etc_accum_regret = env.run_algorithm(algorithm=etc_algorithm, num_iters=t)\n",
    "            res.append(accum_regret[-1])\n",
    "            etc_res.append(etc_accum_regret[-1])\n",
    "        df.at[t, k] = str(round(np.mean(res), 0)) + ' +/- ' + str(round(np.std(res), 0))\n",
    "        etc_df.at[t,k] = str(round(np.mean(etc_res), 0)) + ' +/- ' + str(round(np.std(etc_res), 0))\n",
    "\n",
    "print('The accumulated regret under different $(K, T)$ for UCB1, format: mean +/- std.')\n",
    "print(df.head())\n",
    "\n",
    "print('The accumulated regret under different $(K, T)$ for ETC, format: mean +/- std.')\n",
    "print(etc_df.head())"
   ]
  },
  {
   "cell_type": "markdown",
   "id": "cac89deb-f4ce-4724-8765-68815dc3fccd",
   "metadata": {},
   "source": [
    "### Find the best $\\alpha$ for UCB1"
   ]
  },
  {
   "cell_type": "code",
   "execution_count": 147,
   "id": "46118973-88b6-4a6b-8bab-e8c14ba57366",
   "metadata": {},
   "outputs": [
    {
     "name": "stderr",
     "output_type": "stream",
     "text": [
      "100%|██████████| 100/100 [01:58<00:00,  1.18s/it]\n"
     ]
    },
    {
     "data": {
      "image/png": "[encoded data removed]",
      "text/plain": [
       "<Figure size 1000x600 with 1 Axes>"
      ]
     },
     "metadata": {},
     "output_type": "display_data"
    }
   ],
   "source": [
    "import pandas as pd\n",
    "import matplotlib.pyplot as plt\n",
    "from tqdm import tqdm\n",
    "\n",
    "alpha_values = [0.01, 0.02, 0.05, 0.1, 0.2, 0.5, 1.0, 2.0, 2.5, 3.0, 3.5, 4.0]\n",
    "alpha_values = np.linspace(0.01, 10, 20)\n",
    "num_trials = 100\n",
    "\n",
    "regret = []\n",
    "for trial in tqdm(range(num_trials)):\n",
    "    # setup environment\n",
    "    env = MABEnvironment(num_arms=30) #noise_scale=noise_scale)\n",
    "    env.gen_arms(range=(1,2))\n",
    "    res = []\n",
    "    for alpha in alpha_values:\n",
    "        algorithm = UCB1(num_arms=30, alpha=alpha)\n",
    "        accum_regret = env.run_algorithm(algorithm=algorithm, num_iters=5000)\n",
    "        res.append(accum_regret[-1])\n",
    "    regret.append(res)\n",
    "\n",
    "avg_regret = np.mean(np.stack(regret), axis=0)    \n",
    "\n",
    "plt.figure(figsize=(10, 6))\n",
    "plt.plot(alpha_values, avg_regret, label='Regret', marker='o')\n",
    "plt.xscale('log')\n",
    "plt.xlabel('m')\n",
    "plt.ylabel('Regret')\n",
    "plt.title('The accumulated regret of UCB1 for $(K, T)=(30, 5000)$ under different $alpha$.')\n",
    "plt.legend()\n",
    "plt.grid()\n",
    "plt.show()"
   ]
  },
  {
   "cell_type": "code",
   "execution_count": 149,
   "id": "9640d579",
   "metadata": {},
   "outputs": [
    {
     "name": "stdout",
     "output_type": "stream",
     "text": [
      "1\n"
     ]
    },
    {
     "data": {
      "text/plain": [
       "2497.93540448095"
      ]
     },
     "execution_count": 149,
     "metadata": {},
     "output_type": "execute_result"
    }
   ],
   "source": [
    "print(np.argmin(avg_regret))\n",
    "min(avg_regret)"
   ]
  },
  {
   "cell_type": "markdown",
   "id": "af1feb89",
   "metadata": {},
   "source": [
    "Based on this graph it seems that the average regret does not fluctuate significantly for different values of alpha. I tested values for alpha using np.linspace(0.01, 10, 20), and I found that the best value for alpha was 1, yielding an average regret of 2497. The average regret for the different values of alpha tested ranged from approximately 2498 to 2506, suggesting that the alpha parameter does not have much impact on this implementation of UCB."
   ]
  },
  {
   "cell_type": "markdown",
   "id": "1b0f067d-a3eb-4d47-87eb-33a9f68ad8ec",
   "metadata": {},
   "source": [
    "## Q3 Welfare analysis (40 pts): \n",
    "Define the welfare of the user of the algorithm in round t as the reward of the arm the algorithm pulls in that period. There are two users, one uses the explore-and-commit algorithm and one uses UCB1 algorithm to pull arms in each round t. They pull arms in random order such that if the first user gets to pull an arm first and pulls arm i then the second user can pull any other arm but arm i. Each of the two users pulls an arm first with probability exactly .5 in each round."
   ]
  },
  {
   "cell_type": "markdown",
   "id": "e73bc9c0-a086-4c9a-bbb9-0627c951e191",
   "metadata": {},
   "source": [
    "**(a)** Simulate sequences of arms pulled by each of 2 users over T = 100 rounds and repeat this process 1000 times. Using your simulation output, conclude which algorithm provides the highest average expected welfare (i.e., $\\mathbb{E}[\\frac{1}{T} \\sum_{t=1}^{T} r_{i_t, t} ]$) where $i_t$ is the arm that a given user pulls in round t) to the user. **(20 pts)**"
   ]
  },
  {
   "cell_type": "markdown",
   "id": "73a6d23d-a0cc-4aa0-b39d-70d75c4ef530",
   "metadata": {},
   "source": [
    "**(b)** Compare the average expected welfare provided by the two algorithms which you evaluated in question (a) with the expected welfare that would be provided by a central planner who knows the realizations of rewards of arms before assigning them. **(20 pts)**"
   ]
  },
  {
   "cell_type": "markdown",
   "id": "d1ee1e3d",
   "metadata": {},
   "source": [
    "For (b), I implemented the planners under the assumption that they knew the true mean reward for each arm."
   ]
  },
  {
   "cell_type": "markdown",
   "id": "22634400-5664-4af5-a447-af8019db5169",
   "metadata": {},
   "source": [
    "### Setup"
   ]
  },
  {
   "cell_type": "code",
   "execution_count": 171,
   "id": "a87fdef7-022c-48da-a07f-674294af661a",
   "metadata": {},
   "outputs": [],
   "source": [
    "num_arms=10\n",
    "m=13\n",
    "alpha=1\n",
    "# You can change the values set above\n",
    "\n",
    "def run_experiment(num_rounds=100, num_repeats=1000):\n",
    "    \n",
    "    # Initialize variables to store cumulative (from repeats) rewards for each player\n",
    "    etc_rewards = np.zeros(num_repeats)\n",
    "    ucb_rewards = np.zeros(num_repeats)\n",
    "    # INSERT INITIALIZATION HERE\n",
    "    etc_planner_rewards = np.zeros(num_repeats)\n",
    "    ucb_planner_rewards = np.zeros(num_repeats)\n",
    "\n",
    "    # Repeat the experiment for num_repeats times\n",
    "    \n",
    "    for repeat in range(num_repeats):\n",
    "        # Initialize the multi-armed bandit environment\n",
    "        env = MABEnvironment(num_arms,noise_scale=0.3)\n",
    "        env.gen_arms(range=(1, 2))\n",
    "\n",
    "        optimal_arm, optimal_reward = env.get_optimal_arm()\n",
    "\n",
    "        # Initialize the ETC and UCB1 players\n",
    "        etc_player = ETC(num_arms, m)\n",
    "        ucb_player = UCB1(num_arms, alpha)\n",
    "\n",
    "        # Play the game for num_rounds rounds\n",
    "        for i in range(num_rounds):\n",
    "            # Realize the rewards of each arm\n",
    "            rewards = np.zeros(num_arms)\n",
    "            for i in range(num_arms):\n",
    "                rewards[i] = np.random.normal(env.arm_mean[i], env.noise_scale)\n",
    "\n",
    "            # ETC player goes first if random value less than 0.5\n",
    "            if np.random.rand() < 0.5: \n",
    "                # ETC player makes a move\n",
    "                etc_arm = etc_player.select_arm()\n",
    "                etc_reward = np.random.normal(env.arm_mean[etc_arm], env.noise_scale)\n",
    "                etc_player.update(etc_arm, etc_reward)\n",
    "\n",
    "                # ETC planner picks best arm?\n",
    "                etc_planner_arm = np.argmax(rewards)\n",
    "                etc_planner_reward =  max(rewards)\n",
    "\n",
    "                # UCB player makes a move\n",
    "                ucb_arm = ucb_player.select_arm()\n",
    "                if ucb_arm == etc_arm: #if the UCB player picks the same arm as the UTC player\n",
    "                    ucb_arm = ucb_player.select_next_arm(etc_arm)\n",
    "                ucb_reward = np.random.normal(env.arm_mean[ucb_arm], env.noise_scale)\n",
    "                ucb_player.update(ucb_arm, ucb_reward)\n",
    "\n",
    "                # UCB planner picks second best reward\n",
    "                ucb_planner_reward = np.partition(rewards, -2)[-2]\n",
    "                # Now find the index of this value in the original array\n",
    "                ucb_planner_arm = np.where(rewards == ucb_planner_reward)[0][0]\n",
    "                #ucb_planner_reward = np.random.normal(env.arm_mean[ucb_planner_arm], env.noise_scale)\n",
    "            else:\n",
    "                # UCB player goes first\n",
    "                ucb_arm = ucb_player.select_arm()\n",
    "                ucb_reward = np.random.normal(env.arm_mean[ucb_arm], env.noise_scale)\n",
    "                ucb_player.update(ucb_arm, ucb_reward)\n",
    "\n",
    "                # UCB planner picks best arm?\n",
    "                ucb_planner_arm = np.argmax(rewards)\n",
    "                ucb_planner_reward = max(rewards)\n",
    "\n",
    "                # ETC player goes second\n",
    "                etc_arm = etc_player.select_arm()\n",
    "                if etc_arm == ucb_arm:\n",
    "                    etc_arm = etc_player.select_next_arm(ucb_arm)\n",
    "                etc_reward = np.random.normal(env.arm_mean[etc_arm], env.noise_scale)\n",
    "                etc_player.update(etc_arm, etc_reward)\n",
    "\n",
    "                # ETC planner picks second best true mean\n",
    "                etc_planner_reward = np.partition(rewards, -2)[-2]\n",
    "                # Now find the index of this value in the original array\n",
    "                etc_planner_arm = np.where(rewards == etc_planner_reward)[0][0]\n",
    "                #etc_planner_reward = np.random.normal(env.arm_mean[etc_planner_arm], env.noise_scale)\n",
    "\n",
    "\n",
    "        \n",
    "            # Update cumulative rewards\n",
    "            etc_rewards[repeat] += etc_reward\n",
    "            ucb_rewards[repeat] += ucb_reward\n",
    "            \n",
    "            # Update planner's rewards\n",
    "            etc_planner_rewards[repeat] += etc_planner_reward\n",
    "            ucb_planner_rewards[repeat] += ucb_planner_reward\n",
    "        \n",
    "        # Average welfare per 100 rounds\n",
    "        etc_rewards[repeat] /= 100\n",
    "        ucb_rewards[repeat] /= 100\n",
    "        etc_planner_rewards[repeat] /= 100\n",
    "        ucb_planner_rewards[repeat] /= 100\n",
    "\n",
    "    # Compute expected rewards per round\n",
    "    etc_avg_rewards = np.mean(etc_rewards)\n",
    "    ucb_avg_rewards = np.mean(ucb_rewards)\n",
    "    etc_avg_rewards_planner = np.mean(etc_planner_rewards)\n",
    "    ucb_avg_rewards_planner = np.mean(ucb_planner_rewards)\n",
    "\n",
    "        #INSERT CODE HERE\n",
    "\n",
    "    return etc_avg_rewards, ucb_avg_rewards, etc_avg_rewards_planner, ucb_avg_rewards_planner"
   ]
  },
  {
   "cell_type": "markdown",
   "id": "2d258bd9-8586-4789-becb-5200e3ce7063",
   "metadata": {},
   "source": [
    "### Result Comparison"
   ]
  },
  {
   "cell_type": "code",
   "execution_count": 172,
   "id": "6e059199-0235-40e5-a122-4afd140460fa",
   "metadata": {},
   "outputs": [
    {
     "name": "stdout",
     "output_type": "stream",
     "text": [
      "Part a:\n",
      "Average welfare for ETC user is 1.502\n",
      "Average welfare for UCB1 user is 1.493\n",
      "Part b:\n",
      "Average welfare for ETC user is 2.03\n",
      "Average welfare for UCB1 user is 2.03\n"
     ]
    }
   ],
   "source": [
    "etc_avg_rewards, ucb_avg_rewards, etc_avg_rewards_planner, ucb_avg_rewards_planner = run_experiment(100,1000)\n",
    "print(\"Part a:\")\n",
    "print(\"Average welfare for ETC user is\", np.round(etc_avg_rewards,3))\n",
    "print(\"Average welfare for UCB1 user is\", np.round(ucb_avg_rewards,3))\n",
    "print(\"Part b:\")\n",
    "print(\"Average welfare for ETC user is\", np.round(etc_avg_rewards_planner,3))\n",
    "print(\"Average welfare for UCB1 user is\", np.round(ucb_avg_rewards_planner,3))"
   ]
  },
  {
   "cell_type": "markdown",
   "id": "71b91142",
   "metadata": {},
   "source": [
    "Based on the results, it seems that the average expected welfare for a regular ETC player and a regular UCB player are nearly identical at approximately 1.5. The average expected welfare for a planner who knows the realized reward of each arm pull is approximately 2.03, which is greater than the average expected welfare for the UCB player and the ETC player."
   ]
  }
 ],
 "metadata": {
  "kernelspec": {
   "display_name": "Python 3 (ipykernel)",
   "language": "python",
   "name": "python3"
  },
  "language_info": {
   "codemirror_mode": {
    "name": "ipython",
    "version": 3
   },
   "file_extension": ".py",
   "mimetype": "text/x-python",
   "name": "python",
   "nbconvert_exporter": "python",
   "pygments_lexer": "ipython3",
   "version": "3.11.2"
  }
 },
 "nbformat": 4,
 "nbformat_minor": 5
}
